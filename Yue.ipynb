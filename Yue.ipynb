{
 "cells": [
  {
   "cell_type": "code",
   "id": "initial_id",
   "metadata": {
    "collapsed": true,
    "ExecuteTime": {
     "end_time": "2025-06-11T18:20:41.797658Z",
     "start_time": "2025-06-11T18:20:41.793069Z"
    }
   },
   "source": [
    "import pandas as pd\n",
    "import numpy as np\n",
    "from statsmodels.tsa.seasonal import seasonal_decompose, STL"
   ],
   "outputs": [],
   "execution_count": 6
  },
  {
   "metadata": {
    "ExecuteTime": {
     "end_time": "2025-06-11T19:00:14.396819Z",
     "start_time": "2025-06-11T19:00:14.381871Z"
    }
   },
   "cell_type": "code",
   "source": [
    "df = pd.read_csv('proj1_exampleinput.csv', parse_dates=['Month'])\n",
    "df = df.rename(columns={'product_class': 'unique_id', 'Month': 'ds', 'sales_volume': 'y'})"
   ],
   "id": "713ec637f6ae69aa",
   "outputs": [],
   "execution_count": 17
  },
  {
   "metadata": {},
   "cell_type": "markdown",
   "source": [
    "### Filter the time series which are less than 2 seasonality periods as df_short\n",
    "As the data is monthly data, so we consider 1 seasonality period is 12 months, 2 periods should have 24 data points"
   ],
   "id": "ca9838ce27ae7012"
  },
  {
   "metadata": {
    "ExecuteTime": {
     "end_time": "2025-06-11T19:00:51.748466Z",
     "start_time": "2025-06-11T19:00:51.736041Z"
    }
   },
   "cell_type": "code",
   "source": [
    "# 每个商品的非缺失y值数量（即有效月度销售记录）\n",
    "counts = df.groupby('unique_id')['y'].count()\n",
    "\n",
    "# 筛选出数据点少于24（即少于两个季节性周期）的商品\n",
    "short_series_ids = counts[counts < 24].index\n",
    "\n",
    "# 筛选出这些商品的完整记录\n",
    "df_short = df[df['unique_id'].isin(short_series_ids)]\n",
    "\n",
    "df_short"
   ],
   "id": "850d932603c80ccf",
   "outputs": [
    {
     "data": {
      "text/plain": [
       "      unique_id         ds       y\n",
       "550       C1018 2015-09-01   236.0\n",
       "551       C1018 2015-10-01   287.0\n",
       "552       C1018 2015-11-01   218.0\n",
       "553       C1018 2015-12-01   203.0\n",
       "554       C1018 2016-01-01   239.0\n",
       "...         ...        ...     ...\n",
       "14244     C6936 2017-05-01  6692.0\n",
       "14245     C6936 2017-06-01  5904.0\n",
       "14246     C6936 2017-07-01  6332.0\n",
       "14292     C6960 2017-02-01  8103.0\n",
       "14293     C6960 2017-05-01  8627.0\n",
       "\n",
       "[724 rows x 3 columns]"
      ],
      "text/html": [
       "<div>\n",
       "<style scoped>\n",
       "    .dataframe tbody tr th:only-of-type {\n",
       "        vertical-align: middle;\n",
       "    }\n",
       "\n",
       "    .dataframe tbody tr th {\n",
       "        vertical-align: top;\n",
       "    }\n",
       "\n",
       "    .dataframe thead th {\n",
       "        text-align: right;\n",
       "    }\n",
       "</style>\n",
       "<table border=\"1\" class=\"dataframe\">\n",
       "  <thead>\n",
       "    <tr style=\"text-align: right;\">\n",
       "      <th></th>\n",
       "      <th>unique_id</th>\n",
       "      <th>ds</th>\n",
       "      <th>y</th>\n",
       "    </tr>\n",
       "  </thead>\n",
       "  <tbody>\n",
       "    <tr>\n",
       "      <th>550</th>\n",
       "      <td>C1018</td>\n",
       "      <td>2015-09-01</td>\n",
       "      <td>236.0</td>\n",
       "    </tr>\n",
       "    <tr>\n",
       "      <th>551</th>\n",
       "      <td>C1018</td>\n",
       "      <td>2015-10-01</td>\n",
       "      <td>287.0</td>\n",
       "    </tr>\n",
       "    <tr>\n",
       "      <th>552</th>\n",
       "      <td>C1018</td>\n",
       "      <td>2015-11-01</td>\n",
       "      <td>218.0</td>\n",
       "    </tr>\n",
       "    <tr>\n",
       "      <th>553</th>\n",
       "      <td>C1018</td>\n",
       "      <td>2015-12-01</td>\n",
       "      <td>203.0</td>\n",
       "    </tr>\n",
       "    <tr>\n",
       "      <th>554</th>\n",
       "      <td>C1018</td>\n",
       "      <td>2016-01-01</td>\n",
       "      <td>239.0</td>\n",
       "    </tr>\n",
       "    <tr>\n",
       "      <th>...</th>\n",
       "      <td>...</td>\n",
       "      <td>...</td>\n",
       "      <td>...</td>\n",
       "    </tr>\n",
       "    <tr>\n",
       "      <th>14244</th>\n",
       "      <td>C6936</td>\n",
       "      <td>2017-05-01</td>\n",
       "      <td>6692.0</td>\n",
       "    </tr>\n",
       "    <tr>\n",
       "      <th>14245</th>\n",
       "      <td>C6936</td>\n",
       "      <td>2017-06-01</td>\n",
       "      <td>5904.0</td>\n",
       "    </tr>\n",
       "    <tr>\n",
       "      <th>14246</th>\n",
       "      <td>C6936</td>\n",
       "      <td>2017-07-01</td>\n",
       "      <td>6332.0</td>\n",
       "    </tr>\n",
       "    <tr>\n",
       "      <th>14292</th>\n",
       "      <td>C6960</td>\n",
       "      <td>2017-02-01</td>\n",
       "      <td>8103.0</td>\n",
       "    </tr>\n",
       "    <tr>\n",
       "      <th>14293</th>\n",
       "      <td>C6960</td>\n",
       "      <td>2017-05-01</td>\n",
       "      <td>8627.0</td>\n",
       "    </tr>\n",
       "  </tbody>\n",
       "</table>\n",
       "<p>724 rows × 3 columns</p>\n",
       "</div>"
      ]
     },
     "execution_count": 21,
     "metadata": {},
     "output_type": "execute_result"
    }
   ],
   "execution_count": 21
  },
  {
   "metadata": {},
   "cell_type": "markdown",
   "source": [
    "### Calculate the strength of seasonality (as'fs')\n",
    "Define: if fs>= 0.5, obvious or high seasonality\n",
    "if fs<0.5, no or low seasonality"
   ],
   "id": "21bd504e4f35ce59"
  },
  {
   "metadata": {
    "ExecuteTime": {
     "end_time": "2025-06-11T19:20:03.644436Z",
     "start_time": "2025-06-11T19:20:03.506288Z"
    }
   },
   "cell_type": "code",
   "source": [
    "def quantify_fs_rv(ts: pd.DataFrame, seasonality_period: int, lo_frac: float):\n",
    "    # Make the input a numeric time series (keep only the 'y' column, and sort by 'ds')\n",
    "    ts_series = ts.set_index('ds')['y'].sort_index()\n",
    "\n",
    "    # STL decomposition\n",
    "    stl = STL(ts_series, period=seasonality_period).fit()\n",
    "\n",
    "    # Calculate the strength of seasonality（fs）and residual variability（rv）\n",
    "    fs = max(0, 1 - np.var(stl.resid) / np.var(stl.resid + stl.seasonal))\n",
    "    rv = np.std(stl.resid) / ts_series.mean()\n",
    "\n",
    "    return pd.Series({'fs': fs, 'rv': rv})\n",
    "\n",
    "# Calculate fs & rv\n",
    "seasonality_results = df.groupby('unique_id').apply(\n",
    "    lambda x: quantify_fs_rv(x, seasonality_period=12, lo_frac=0.4)\n",
    ").reset_index()\n",
    "\n",
    "# filter fs >= 0.5\n",
    "high_seasonal_ids = seasonality_results[seasonality_results['fs'] >= 0.5]['unique_id']\n",
    "low_seasonal_ids = seasonality_results[seasonality_results['fs'] < 0.5]['unique_id']\n",
    "\n",
    "# Create df_seasonal with all the time series with high seasonality\n",
    "df_seasonal = df[df['unique_id'].isin(high_seasonal_ids)].copy()\n",
    "df_low_seasonal = df[df['unique_id'].isin(low_seasonal_ids)].copy()\n",
    "\n",
    "df_seasonal\n"
   ],
   "id": "30a1499b8b00afb7",
   "outputs": [
    {
     "name": "stderr",
     "output_type": "stream",
     "text": [
      "/var/folders/gm/_yp4_bjn6l7dvvpx97_5_c0c0000gn/T/ipykernel_34331/3941635920.py:15: DeprecationWarning: DataFrameGroupBy.apply operated on the grouping columns. This behavior is deprecated, and in a future version of pandas the grouping columns will be excluded from the operation. Either pass `include_groups=False` to exclude the groupings or explicitly select the grouping columns after groupby to silence this warning.\n",
      "  seasonality_results = df.groupby('unique_id').apply(\n"
     ]
    },
    {
     "data": {
      "text/plain": [
       "      unique_id         ds        y\n",
       "0         C1002 2013-01-01  43660.0\n",
       "1         C1002 2013-02-01  42340.0\n",
       "2         C1002 2013-03-01  49176.0\n",
       "3         C1002 2013-04-01  47835.0\n",
       "4         C1002 2013-05-01  50915.0\n",
       "...         ...        ...      ...\n",
       "14487     C7780 2017-03-01  19647.0\n",
       "14488     C7780 2017-04-01  19616.0\n",
       "14489     C7780 2017-05-01  21431.0\n",
       "14490     C7780 2017-06-01  19333.0\n",
       "14491     C7780 2017-07-01  20067.0\n",
       "\n",
       "[13254 rows x 3 columns]"
      ],
      "text/html": [
       "<div>\n",
       "<style scoped>\n",
       "    .dataframe tbody tr th:only-of-type {\n",
       "        vertical-align: middle;\n",
       "    }\n",
       "\n",
       "    .dataframe tbody tr th {\n",
       "        vertical-align: top;\n",
       "    }\n",
       "\n",
       "    .dataframe thead th {\n",
       "        text-align: right;\n",
       "    }\n",
       "</style>\n",
       "<table border=\"1\" class=\"dataframe\">\n",
       "  <thead>\n",
       "    <tr style=\"text-align: right;\">\n",
       "      <th></th>\n",
       "      <th>unique_id</th>\n",
       "      <th>ds</th>\n",
       "      <th>y</th>\n",
       "    </tr>\n",
       "  </thead>\n",
       "  <tbody>\n",
       "    <tr>\n",
       "      <th>0</th>\n",
       "      <td>C1002</td>\n",
       "      <td>2013-01-01</td>\n",
       "      <td>43660.0</td>\n",
       "    </tr>\n",
       "    <tr>\n",
       "      <th>1</th>\n",
       "      <td>C1002</td>\n",
       "      <td>2013-02-01</td>\n",
       "      <td>42340.0</td>\n",
       "    </tr>\n",
       "    <tr>\n",
       "      <th>2</th>\n",
       "      <td>C1002</td>\n",
       "      <td>2013-03-01</td>\n",
       "      <td>49176.0</td>\n",
       "    </tr>\n",
       "    <tr>\n",
       "      <th>3</th>\n",
       "      <td>C1002</td>\n",
       "      <td>2013-04-01</td>\n",
       "      <td>47835.0</td>\n",
       "    </tr>\n",
       "    <tr>\n",
       "      <th>4</th>\n",
       "      <td>C1002</td>\n",
       "      <td>2013-05-01</td>\n",
       "      <td>50915.0</td>\n",
       "    </tr>\n",
       "    <tr>\n",
       "      <th>...</th>\n",
       "      <td>...</td>\n",
       "      <td>...</td>\n",
       "      <td>...</td>\n",
       "    </tr>\n",
       "    <tr>\n",
       "      <th>14487</th>\n",
       "      <td>C7780</td>\n",
       "      <td>2017-03-01</td>\n",
       "      <td>19647.0</td>\n",
       "    </tr>\n",
       "    <tr>\n",
       "      <th>14488</th>\n",
       "      <td>C7780</td>\n",
       "      <td>2017-04-01</td>\n",
       "      <td>19616.0</td>\n",
       "    </tr>\n",
       "    <tr>\n",
       "      <th>14489</th>\n",
       "      <td>C7780</td>\n",
       "      <td>2017-05-01</td>\n",
       "      <td>21431.0</td>\n",
       "    </tr>\n",
       "    <tr>\n",
       "      <th>14490</th>\n",
       "      <td>C7780</td>\n",
       "      <td>2017-06-01</td>\n",
       "      <td>19333.0</td>\n",
       "    </tr>\n",
       "    <tr>\n",
       "      <th>14491</th>\n",
       "      <td>C7780</td>\n",
       "      <td>2017-07-01</td>\n",
       "      <td>20067.0</td>\n",
       "    </tr>\n",
       "  </tbody>\n",
       "</table>\n",
       "<p>13254 rows × 3 columns</p>\n",
       "</div>"
      ]
     },
     "execution_count": 23,
     "metadata": {},
     "output_type": "execute_result"
    }
   ],
   "execution_count": 23
  },
  {
   "metadata": {
    "ExecuteTime": {
     "end_time": "2025-06-11T19:24:05.764070Z",
     "start_time": "2025-06-11T19:24:05.755803Z"
    }
   },
   "cell_type": "code",
   "source": "df_low_seasonal",
   "id": "299b4bf8e1978a67",
   "outputs": [
    {
     "data": {
      "text/plain": [
       "      unique_id         ds        y\n",
       "55        C1003 2013-01-01  10203.0\n",
       "56        C1003 2013-02-01   9169.0\n",
       "57        C1003 2013-03-01  10428.0\n",
       "58        C1003 2013-04-01   9714.0\n",
       "59        C1003 2013-05-01  10489.0\n",
       "...         ...        ...      ...\n",
       "14160     C6918 2017-03-01   2847.0\n",
       "14161     C6918 2017-04-01   2940.0\n",
       "14162     C6918 2017-05-01   2980.0\n",
       "14163     C6918 2017-06-01   3120.0\n",
       "14164     C6918 2017-07-01   2843.0\n",
       "\n",
       "[1238 rows x 3 columns]"
      ],
      "text/html": [
       "<div>\n",
       "<style scoped>\n",
       "    .dataframe tbody tr th:only-of-type {\n",
       "        vertical-align: middle;\n",
       "    }\n",
       "\n",
       "    .dataframe tbody tr th {\n",
       "        vertical-align: top;\n",
       "    }\n",
       "\n",
       "    .dataframe thead th {\n",
       "        text-align: right;\n",
       "    }\n",
       "</style>\n",
       "<table border=\"1\" class=\"dataframe\">\n",
       "  <thead>\n",
       "    <tr style=\"text-align: right;\">\n",
       "      <th></th>\n",
       "      <th>unique_id</th>\n",
       "      <th>ds</th>\n",
       "      <th>y</th>\n",
       "    </tr>\n",
       "  </thead>\n",
       "  <tbody>\n",
       "    <tr>\n",
       "      <th>55</th>\n",
       "      <td>C1003</td>\n",
       "      <td>2013-01-01</td>\n",
       "      <td>10203.0</td>\n",
       "    </tr>\n",
       "    <tr>\n",
       "      <th>56</th>\n",
       "      <td>C1003</td>\n",
       "      <td>2013-02-01</td>\n",
       "      <td>9169.0</td>\n",
       "    </tr>\n",
       "    <tr>\n",
       "      <th>57</th>\n",
       "      <td>C1003</td>\n",
       "      <td>2013-03-01</td>\n",
       "      <td>10428.0</td>\n",
       "    </tr>\n",
       "    <tr>\n",
       "      <th>58</th>\n",
       "      <td>C1003</td>\n",
       "      <td>2013-04-01</td>\n",
       "      <td>9714.0</td>\n",
       "    </tr>\n",
       "    <tr>\n",
       "      <th>59</th>\n",
       "      <td>C1003</td>\n",
       "      <td>2013-05-01</td>\n",
       "      <td>10489.0</td>\n",
       "    </tr>\n",
       "    <tr>\n",
       "      <th>...</th>\n",
       "      <td>...</td>\n",
       "      <td>...</td>\n",
       "      <td>...</td>\n",
       "    </tr>\n",
       "    <tr>\n",
       "      <th>14160</th>\n",
       "      <td>C6918</td>\n",
       "      <td>2017-03-01</td>\n",
       "      <td>2847.0</td>\n",
       "    </tr>\n",
       "    <tr>\n",
       "      <th>14161</th>\n",
       "      <td>C6918</td>\n",
       "      <td>2017-04-01</td>\n",
       "      <td>2940.0</td>\n",
       "    </tr>\n",
       "    <tr>\n",
       "      <th>14162</th>\n",
       "      <td>C6918</td>\n",
       "      <td>2017-05-01</td>\n",
       "      <td>2980.0</td>\n",
       "    </tr>\n",
       "    <tr>\n",
       "      <th>14163</th>\n",
       "      <td>C6918</td>\n",
       "      <td>2017-06-01</td>\n",
       "      <td>3120.0</td>\n",
       "    </tr>\n",
       "    <tr>\n",
       "      <th>14164</th>\n",
       "      <td>C6918</td>\n",
       "      <td>2017-07-01</td>\n",
       "      <td>2843.0</td>\n",
       "    </tr>\n",
       "  </tbody>\n",
       "</table>\n",
       "<p>1238 rows × 3 columns</p>\n",
       "</div>"
      ]
     },
     "execution_count": 25,
     "metadata": {},
     "output_type": "execute_result"
    }
   ],
   "execution_count": 25
  },
  {
   "metadata": {},
   "cell_type": "markdown",
   "source": [
    "### Category 4: fs<0.5, contain 0\n",
    "models: Drift, Mean, ARIMA"
   ],
   "id": "99f2bdf485f141d"
  },
  {
   "metadata": {
    "ExecuteTime": {
     "end_time": "2025-06-11T19:26:47.794734Z",
     "start_time": "2025-06-11T19:26:47.787934Z"
    }
   },
   "cell_type": "code",
   "source": [
    "# Filter the time series which has at least 1 value is 0\n",
    "zero_ids = df_low_seasonal[df_low_seasonal['y'] == 0]['unique_id'].unique()\n",
    "\n",
    "# Create df_4 as category 4\n",
    "df_4 = df_low_seasonal[df_low_seasonal['unique_id'].isin(zero_ids)].copy()\n",
    "\n",
    "if df_4.empty:\n",
    "    print(\"No low or no seasonality time series with 0\")\n",
    "\n",
    "df_4"
   ],
   "id": "3156c9be538095f2",
   "outputs": [
    {
     "name": "stdout",
     "output_type": "stream",
     "text": [
      "No low or no seasonality time series with 0\n"
     ]
    },
    {
     "data": {
      "text/plain": [
       "Empty DataFrame\n",
       "Columns: [unique_id, ds, y]\n",
       "Index: []"
      ],
      "text/html": [
       "<div>\n",
       "<style scoped>\n",
       "    .dataframe tbody tr th:only-of-type {\n",
       "        vertical-align: middle;\n",
       "    }\n",
       "\n",
       "    .dataframe tbody tr th {\n",
       "        vertical-align: top;\n",
       "    }\n",
       "\n",
       "    .dataframe thead th {\n",
       "        text-align: right;\n",
       "    }\n",
       "</style>\n",
       "<table border=\"1\" class=\"dataframe\">\n",
       "  <thead>\n",
       "    <tr style=\"text-align: right;\">\n",
       "      <th></th>\n",
       "      <th>unique_id</th>\n",
       "      <th>ds</th>\n",
       "      <th>y</th>\n",
       "    </tr>\n",
       "  </thead>\n",
       "  <tbody>\n",
       "  </tbody>\n",
       "</table>\n",
       "</div>"
      ]
     },
     "execution_count": 27,
     "metadata": {},
     "output_type": "execute_result"
    }
   ],
   "execution_count": 27
  },
  {
   "metadata": {},
   "cell_type": "markdown",
   "source": [
    "### Category 5: with negative values\n",
    "\n",
    "models: ARIMA, TSLM, Mean"
   ],
   "id": "c91428dbfaa368cc"
  },
  {
   "metadata": {
    "ExecuteTime": {
     "end_time": "2025-06-11T19:28:07.576335Z",
     "start_time": "2025-06-11T19:28:07.569957Z"
    }
   },
   "cell_type": "code",
   "source": [
    "# Filter the time series which has at least 1 negative value\n",
    "negative_ids = df[df['y'] < 0]['unique_id'].unique()\n",
    "\n",
    "# Create df_5 as category 5\n",
    "df_5 = df[df['unique_id'].isin(negative_ids)].copy()\n",
    "\n",
    "if df_5.empty:\n",
    "    print(\"No time series with negative values\")\n",
    "\n",
    "df_5"
   ],
   "id": "cd64090f91a6b56e",
   "outputs": [
    {
     "name": "stdout",
     "output_type": "stream",
     "text": [
      "No time series with negative values\n"
     ]
    },
    {
     "data": {
      "text/plain": [
       "Empty DataFrame\n",
       "Columns: [unique_id, ds, y]\n",
       "Index: []"
      ],
      "text/html": [
       "<div>\n",
       "<style scoped>\n",
       "    .dataframe tbody tr th:only-of-type {\n",
       "        vertical-align: middle;\n",
       "    }\n",
       "\n",
       "    .dataframe tbody tr th {\n",
       "        vertical-align: top;\n",
       "    }\n",
       "\n",
       "    .dataframe thead th {\n",
       "        text-align: right;\n",
       "    }\n",
       "</style>\n",
       "<table border=\"1\" class=\"dataframe\">\n",
       "  <thead>\n",
       "    <tr style=\"text-align: right;\">\n",
       "      <th></th>\n",
       "      <th>unique_id</th>\n",
       "      <th>ds</th>\n",
       "      <th>y</th>\n",
       "    </tr>\n",
       "  </thead>\n",
       "  <tbody>\n",
       "  </tbody>\n",
       "</table>\n",
       "</div>"
      ]
     },
     "execution_count": 28,
     "metadata": {},
     "output_type": "execute_result"
    }
   ],
   "execution_count": 28
  }
 ],
 "metadata": {
  "kernelspec": {
   "display_name": "Python 3",
   "language": "python",
   "name": "python3"
  },
  "language_info": {
   "codemirror_mode": {
    "name": "ipython",
    "version": 2
   },
   "file_extension": ".py",
   "mimetype": "text/x-python",
   "name": "python",
   "nbconvert_exporter": "python",
   "pygments_lexer": "ipython2",
   "version": "2.7.6"
  }
 },
 "nbformat": 4,
 "nbformat_minor": 5
}
