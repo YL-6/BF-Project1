{
 "cells": [
  {
   "metadata": {},
   "cell_type": "markdown",
   "source": "## Task 1",
   "id": "cd09c6ee40904d5e"
  },
  {
   "metadata": {
    "ExecuteTime": {
     "end_time": "2025-06-11T14:30:51.388319Z",
     "start_time": "2025-06-11T14:30:46.742124Z"
    }
   },
   "cell_type": "code",
   "source": [
    "import pandas as pd\n",
    "import numpy as np\n",
    "\n",
    "from coreforecast.scalers import boxcox, boxcox_lambda\n",
    "from statsforecast import StatsForecast\n",
    "from statsforecast.arima import arima_string\n",
    "from statsforecast.models import AutoARIMA, SeasonalNaive\n",
    "from statsmodels.tsa.stattools import kpss\n",
    "\n",
    "# Read data\n"
   ],
   "id": "30e21e231fac9642",
   "outputs": [
    {
     "name": "stderr",
     "output_type": "stream",
     "text": [
      "/opt/anaconda3/envs/mysampleProject/lib/python3.12/site-packages/tqdm/auto.py:21: TqdmWarning: IProgress not found. Please update jupyter and ipywidgets. See https://ipywidgets.readthedocs.io/en/stable/user_install.html\n",
      "  from .autonotebook import tqdm as notebook_tqdm\n"
     ]
    }
   ],
   "execution_count": 1
  },
  {
   "metadata": {},
   "cell_type": "markdown",
   "source": [
    "## Question C\n",
    "\n",
    "### Category 1: shorter than 2 seasonality periods\n",
    "#### Models: Drift\n",
    "Applicable situations: short series with linear trend.\n",
    "Working principle: use the slope of the line connecting the first and last points to linearly extrapolate future values.\n",
    "Advantages: can capture simple trend components.\n",
    "Conclusion: if the data is short but has a trend, drift is better than naive.\n",
    "\n",
    "### Category 2: contains zeroes and has high seasonality\n",
    "#### Model 1: Seasonal Naive\n",
    "In a series with strong seasonality, simply repeat the value of the previous season, which is suitable for time series containing zero values.\n",
    "\n",
    "#### Model 2: ETS (Exponential Smoothing)\n",
    "If you choose models such as ETS(M,A,N) or ETS(A,A,N), you can handle series with seasonality and non-negative numbers.\n",
    "But note: some ETS combinations are sensitive to zero values (such as multiplicative models) and need to use additive forms.\n",
    "\n",
    "#### Model 3: TSLM\n",
    "Seasonal dummy variables can be introduced to model strong seasonality, which is also more robust to zero values.\n",
    "\n",
    "### Category 3: high seasonality and only positive values\n",
    "#### Model 1: Seasonal Naive\n",
    "Suitable for simple repetition of the previous season's structure, simple calculation, and robust effect.\n",
    "\n",
    "#### Model 2: ETS (such as ETS(M,A,M))\n",
    " Multiplicative seasonality is suitable for positive data and can describe the change in the amplitude of seasonal fluctuations over time.\n",
    "\n",
    "#### Model 3: ARIMA with seasonal component (SARIMA)\n",
    "Suitable for time series with high seasonality, but requires sufficient data support.\n",
    "\n",
    "### Category 4: low or no seasonality and zeroes\n",
    "#### Model 0: Naive\n",
    "If the change is small and there is no trend, the naive prediction effect is good.\n",
    "Since we will compare it with the Naive model later, it is not included here.\n",
    "\n",
    "#### Model 1: Drift\n",
    "It is better when the data has linear changes.\n",
    "\n",
    "#### Model 2: Mean\n",
    "When the data has no season and no trend, the mean is simple and effective.\n",
    "\n",
    "#### Model 3: ARIMA\n",
    "After differencing, it can handle data without obvious structure but containing zeros, but it should be noted that the model setting cannot use multiplication terms (multiplication models cannot handle zeros).\n",
    "\n",
    "### Category 5: with negative vales\n",
    "#### Model 1: ARIMA\n",
    "Applicable to non-stationary but differentiable series.\n",
    "\n",
    "#### Model 2: TSLM\n",
    "Applicable to time series with negative values.\n",
    "\n",
    "#### Model 3: Mean\n",
    "A simple baseline model, suitable for benchmark or extremely volatile series.\n",
    "\n"
   ],
   "id": "83aed0a42c2eaebe"
  }
 ],
 "metadata": {
  "kernelspec": {
   "display_name": "Python 3",
   "language": "python",
   "name": "python3"
  },
  "language_info": {
   "codemirror_mode": {
    "name": "ipython",
    "version": 2
   },
   "file_extension": ".py",
   "mimetype": "text/x-python",
   "name": "python",
   "nbconvert_exporter": "python",
   "pygments_lexer": "ipython2",
   "version": "2.7.6"
  }
 },
 "nbformat": 4,
 "nbformat_minor": 5
}
