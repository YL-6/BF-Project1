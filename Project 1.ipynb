{
 "cells": [
  {
   "metadata": {},
   "cell_type": "markdown",
   "source": "## Task 1",
   "id": "cd09c6ee40904d5e"
  },
  {
   "metadata": {
    "ExecuteTime": {
     "end_time": "2025-06-11T14:30:51.388319Z",
     "start_time": "2025-06-11T14:30:46.742124Z"
    }
   },
   "cell_type": "code",
   "source": [
    "import pandas as pd\n",
    "import numpy as np\n",
    "\n",
    "from coreforecast.scalers import boxcox, boxcox_lambda\n",
    "from statsforecast import StatsForecast\n",
    "from statsforecast.arima import arima_string\n",
    "from statsforecast.models import AutoARIMA, SeasonalNaive\n",
    "from statsmodels.tsa.stattools import kpss\n",
    "\n",
    "# Read data\n"
   ],
   "id": "30e21e231fac9642",
   "outputs": [
    {
     "name": "stderr",
     "output_type": "stream",
     "text": [
      "/opt/anaconda3/envs/mysampleProject/lib/python3.12/site-packages/tqdm/auto.py:21: TqdmWarning: IProgress not found. Please update jupyter and ipywidgets. See https://ipywidgets.readthedocs.io/en/stable/user_install.html\n",
      "  from .autonotebook import tqdm as notebook_tqdm\n"
     ]
    }
   ],
   "execution_count": 1
  },
  {
   "metadata": {},
   "cell_type": "markdown",
   "source": [
    "## Question C\n",
    "\n",
    "### Category 1: shorter than 2 seasonality periods\n",
    "#### Models: Drift\n",
    "Drift applicable situations: short series with linear trend.\n",
    "\n",
    "Analysis: The forecasting models such as Mean, Naive, and Drift can all be used for short series, among which Mean and Naive are suitable for data without trend and seasonality.\n",
    "\n",
    "Conclusion: if the data is short but has a trend, drift is better than naive and mean.\n",
    "\n",
    "### Category 2: contains zeroes and has high seasonality\n",
    "#### Model 1: Seasonal Naive\n",
    "Seasonal Naive applicable situations: with high seasonality and no trend.\n",
    "In a series with strong seasonality, simply repeat the value of the previous season, which is suitable for time series containing zero values.\n",
    "\n",
    "#### Model 2: ETS (Exponential Smoothing)\n",
    "ETS applicable situations: with seasonality and trend (multiplicative and additive).\n",
    "\n",
    "Some ETS combinations are sensitive to zero values (such as multiplicative models) and need to use additive forms.\n",
    "\n",
    "### Category 3: high seasonality and only positive values\n",
    "#### Model 1: Seasonal Naive\n",
    "Seasonal Naive applicable situations: with high seasonality and no trend.\n",
    "\n",
    "It is suitable for simple repetition of the previous season's structure, simple calculation, and robust effect.\n",
    "\n",
    "#### Model 2: ETS (such as ETS(M,A,M))\n",
    "ETS applicable situations: with seasonality and trend (multiplicative and additive).\n",
    "\n",
    "Multiplicative seasonality is suitable for positive data and can describe the change in the amplitude of seasonal fluctuations over time.\n",
    "\n",
    "#### Model 3: AutoARIMA\n",
    "ARIMA applicable situations: without trend and seasonality.\n",
    "SARIMA is suitable for time series with high seasonality, but requires sufficient data support.\n",
    "AutoARIMA will automatically perform differencing and can handle trendless and seasonal data.\n",
    "\n",
    "### Category 4: low or no seasonality and zeroes\n",
    "#### Model 0: Naive\n",
    "Naive applicable situations: without seasonality and trend.\n",
    "If the change is small and there is no trend, the naive prediction effect is good.\n",
    "Since we will compare it with the Naive model later, it is not included here.\n",
    "\n",
    "#### Model 1: Drift\n",
    "Drift applicable situations: with linear trend and no seasonality.\n",
    "\n",
    "#### Model 2: Mean\n",
    "When the data has no season and no trend, the mean is simple and effective.\n",
    "\n",
    "#### Model 3: AutoARIMA\n",
    "After differencing, it can handle data without obvious structure but containing zeros, but it should be noted that the model setting cannot use multiplication terms (multiplication models cannot handle zeros).\n",
    "\n",
    "### Category 5: with negative vales\n",
    "#### Model 1: AutoARIMA\n",
    "AutoARIMA will automatically perform differencing and can handle trendless and seasonal data.\n",
    "\n",
    "#### Model 2: Mean\n",
    "Mean applicable situations: without trend and seasonality, and can be used for negative values.\n",
    "\n",
    "In addition, TSLM model depends on exog data, such as promotion campaign, we don't have that kind of data, so we will not consider it in any category."
   ],
   "id": "83aed0a42c2eaebe"
  }
 ],
 "metadata": {
  "kernelspec": {
   "display_name": "Python 3",
   "language": "python",
   "name": "python3"
  },
  "language_info": {
   "codemirror_mode": {
    "name": "ipython",
    "version": 2
   },
   "file_extension": ".py",
   "mimetype": "text/x-python",
   "name": "python",
   "nbconvert_exporter": "python",
   "pygments_lexer": "ipython2",
   "version": "2.7.6"
  }
 },
 "nbformat": 4,
 "nbformat_minor": 5
}
