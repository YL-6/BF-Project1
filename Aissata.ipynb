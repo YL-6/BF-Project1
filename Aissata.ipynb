{
 "cells": [
  {
   "cell_type": "markdown",
   "id": "1c787824",
   "metadata": {},
   "source": []
  },
  {
   "cell_type": "code",
   "execution_count": null,
   "id": "c3b63a6c",
   "metadata": {},
   "outputs": [],
   "source": [
    "def get_user_inputs():\n",
    "    # Get file name\n",
    "    file_name = input(\"Enter the file name (with extension, e.g., data.csv): \").strip()\n",
    "\n",
    "    # Get list of time series IDs to forecast\n",
    "    ids_input = input(\"Enter time series IDs to forecast, separated by commas: \").strip()\n",
    "    ids_to_forecast = [id_.strip() for id_ in ids_input.split(\",\") if id_.strip()]\n",
    "\n",
    "    # Get metric and validate\n",
    "    metric = input(\"Enter the metric ('mape' or 'mse'): \").strip().lower()\n",
    "    if metric not in ['mape', 'mse']:\n",
    "        raise ValueError(\"Invalid metric. Must be 'mape' or 'mse'.\")\n",
    "\n",
    "    return file_name, ids_to_forecast, metric\n",
    "\n",
    "file_name, ids_to_forecast, metric = get_user_inputs()\n",
    "print(f\"\\nInputs received:\\nFile: {file_name}\\nIDs to Forecast: {ids_to_forecast}\\nMetric: {metric}\")\n",
    "\n"
   ]
  }
 ],
 "metadata": {
  "kernelspec": {
   "display_name": "business-forecasting",
   "language": "python",
   "name": "python3"
  },
  "language_info": {
   "codemirror_mode": {
    "name": "ipython",
    "version": 3
   },
   "file_extension": ".py",
   "mimetype": "text/x-python",
   "name": "python",
   "nbconvert_exporter": "python",
   "pygments_lexer": "ipython3",
   "version": "3.13.2"
  }
 },
 "nbformat": 4,
 "nbformat_minor": 5
}
